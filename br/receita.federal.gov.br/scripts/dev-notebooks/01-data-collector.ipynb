{
 "cells": [
  {
   "cell_type": "code",
   "execution_count": 1,
   "metadata": {
    "collapsed": true
   },
   "outputs": [],
   "source": [
    "import os as os\n",
    "import requests as req\n",
    "from datetime import datetime"
   ]
  },
  {
   "cell_type": "code",
   "execution_count": 2,
   "metadata": {
    "collapsed": true
   },
   "outputs": [],
   "source": [
    "def add_url_parameter(**kwargs):\n",
    "    \"\"\"\n",
    "    Funcao para montar a URL de download do arquivo de dados.\n",
    "    \n",
    "    Args:\n",
    "        table (str): Nome da tabela que sera feito o download.\n",
    "        url (str): URL padrao para download de arquivos.\n",
    "\n",
    "    Returns:\n",
    "        str: URL parametrizada para download do arquivo.\n",
    "    \"\"\"\n",
    "    return kwargs['url'] + kwargs['table']"
   ]
  },
  {
   "cell_type": "code",
   "execution_count": 3,
   "metadata": {
    "collapsed": true
   },
   "outputs": [],
   "source": [
    "def set_file_name(**kwargs):\n",
    "    \"\"\"\n",
    "    Funcao para montar o nome do arquivo de download.\n",
    "    Inclui o ano, mes e dia do momento em que foi feito o download.\n",
    "    \n",
    "    Args:\n",
    "        table (str): Nome da tabela que sera feito o download.\n",
    "        file_ext (str): Extensao do arquivo para download.\n",
    "        \n",
    "    Returns:\n",
    "        str: Nome do arquivo para download.\n",
    "    \"\"\"\n",
    "    return datetime.now().strftime('%Y%m%d') + '_' + kwargs['table'] + kwargs['file_ext']"
   ]
  },
  {
   "cell_type": "code",
   "execution_count": 4,
   "metadata": {
    "collapsed": true
   },
   "outputs": [],
   "source": [
    "def download_file(**kwargs):\n",
    "    \"\"\"\n",
    "    Funcao que realiza o download do arquivo. Ao final do download, e verificado\n",
    "    se o arquivo solicitado esta vazio. Caso esteja vazio, o arquivo e apagado.\n",
    "    \n",
    "    Args:\n",
    "        url_query (str): URL parametrizada para download do arquivo.\n",
    "        file_name (str): Nome do arquivo para download.\n",
    "        download_path (str): Caminho do diretorio onde sera salvo o arquivo.\n",
    "    \"\"\"\n",
    "    # Prepara o caminho completo para download do arquivo\n",
    "    download_file = kwargs['download_path'] + kwargs['file_name']\n",
    "    \n",
    "    # Prepara a requisicao de download do arquivo\n",
    "    res = req.get(kwargs['url_query'], stream = True)\n",
    "    \n",
    "    # Se for encontrada a URL para download\n",
    "    if res.status_code == 200:\n",
    "        \n",
    "        # Faz o download do arquivo\n",
    "        with open(download_file, 'wb') as f:\n",
    "            print 'Download do arquivo: ' + kwargs['file_name']\n",
    "            for chunk in res.iter_content(chunk_size = 1024):\n",
    "                f.write(chunk)\n",
    "        \n",
    "        # Verifica o tamanho do arquivo recebido\n",
    "        file_size = os.stat(download_file).st_size\n",
    "        \n",
    "        # Se o tamanho do arquivo for muito \n",
    "        # pequeno remove o arquivo da pasta \n",
    "        if file_size <= 100:\n",
    "            print 'Arquivo ' + kwargs['file_name'] + ' removido por conter poucos dados.'\n",
    "            os.remove(download_file)\n",
    "            "
   ]
  },
  {
   "cell_type": "code",
   "execution_count": 6,
   "metadata": {
    "collapsed": true
   },
   "outputs": [],
   "source": [
    "def collect_files():\n",
    "    \"\"\"\n",
    "    Funcao para coletar do site da Receita Federal os arquivos de Quadro Societario e Administradores.\n",
    "    Os dados sao armazenados no diretorio /data/raw/ .\n",
    "    \n",
    "    Returns:\n",
    "        obj: Arquivos TXT de Quadro Societario e Administradores da Receita Federal.\n",
    "    \"\"\"\n",
    "    # Prepara o dicionario de variaveis (kwargs = keyworded arguments)\n",
    "    kwargs = {}\n",
    "    \n",
    "    # Variaveis de controle do processo\n",
    "    # Lista de tabelas para download (por estado)\n",
    "    kwargs['tables'] = ['AC', 'AL', 'AM', 'AP', 'BA', 'CE', 'DF', 'ES', 'GO'\n",
    "                       ,'MA', 'MG', 'MS', 'MT', 'PA', 'PB', 'PE', 'PI', 'PR'\n",
    "                       ,'RJ', 'RN', 'RO', 'RR', 'RS', 'SC', 'SE', 'SP', 'TO']\n",
    "    \n",
    "    # Tipo de extensao dos arquivos recebidos por download\n",
    "    kwargs['file_ext'] = '.txt'\n",
    "\n",
    "    # URL para busca de arquivos para download\n",
    "    kwargs['url'] = 'http://idg.receita.fazenda.gov.br/orientacao/tributaria/cadastros/cadastro-nacional-de-pessoas-juridicas-cnpj/consultas/download/F.K03200UF.D71214'\n",
    "\n",
    "    # Caminho para armazenamento do download dos arquivos\n",
    "    kwargs['download_path'] = '..\\\\..\\\\data\\\\01-collected\\\\'\n",
    "    \n",
    "    # Para cada tabela na lista de tabelas\n",
    "    for table in kwargs['tables']:\n",
    "        \n",
    "        # Prepara a URL e nome do arquivo para download\n",
    "        kwargs['table'] = table\n",
    "        kwargs['file_name'] = set_file_name(**kwargs)\n",
    "        kwargs['url_query'] = add_url_parameter(**kwargs)\n",
    "        \n",
    "        # Faz o download do arquivo \n",
    "        download_file(**kwargs)\n",
    "    \n",
    "    print 'Download dos arquivos concluído!'\n"
   ]
  },
  {
   "cell_type": "code",
   "execution_count": 7,
   "metadata": {},
   "outputs": [
    {
     "name": "stdout",
     "output_type": "stream",
     "text": [
      "Download do arquivo: 20180718_AC.txt\n",
      "Download do arquivo: 20180718_AL.txt\n",
      "Download do arquivo: 20180718_AM.txt\n",
      "Download do arquivo: 20180718_AP.txt\n",
      "Download do arquivo: 20180718_BA.txt\n",
      "Download do arquivo: 20180718_CE.txt\n",
      "Download do arquivo: 20180718_DF.txt\n",
      "Download do arquivo: 20180718_ES.txt\n",
      "Download do arquivo: 20180718_GO.txt\n",
      "Download do arquivo: 20180718_MA.txt\n",
      "Download do arquivo: 20180718_MG.txt\n",
      "Download do arquivo: 20180718_MS.txt\n",
      "Download do arquivo: 20180718_MT.txt\n",
      "Download do arquivo: 20180718_PA.txt\n",
      "Download do arquivo: 20180718_PB.txt\n",
      "Download do arquivo: 20180718_PE.txt\n",
      "Download do arquivo: 20180718_PI.txt\n",
      "Download do arquivo: 20180718_PR.txt\n",
      "Download do arquivo: 20180718_RJ.txt\n",
      "Download do arquivo: 20180718_RN.txt\n",
      "Download do arquivo: 20180718_RO.txt\n",
      "Download do arquivo: 20180718_RR.txt\n",
      "Download do arquivo: 20180718_RS.txt\n",
      "Download do arquivo: 20180718_SC.txt\n",
      "Download do arquivo: 20180718_SE.txt\n",
      "Download do arquivo: 20180718_SP.txt\n",
      "Download do arquivo: 20180718_TO.txt\n",
      "Download dos arquivos concluído!\n"
     ]
    }
   ],
   "source": [
    "def main():\n",
    "    ### Coleta os arquivos\n",
    "    collect_files()\n",
    "\n",
    "if __name__ == '__main__':\n",
    "    main()"
   ]
  },
  {
   "cell_type": "code",
   "execution_count": null,
   "metadata": {
    "collapsed": true
   },
   "outputs": [],
   "source": []
  }
 ],
 "metadata": {
  "kernelspec": {
   "display_name": "Python 2",
   "language": "python",
   "name": "python2"
  },
  "language_info": {
   "codemirror_mode": {
    "name": "ipython",
    "version": 2
   },
   "file_extension": ".py",
   "mimetype": "text/x-python",
   "name": "python",
   "nbconvert_exporter": "python",
   "pygments_lexer": "ipython2",
   "version": "2.7.13"
  }
 },
 "nbformat": 4,
 "nbformat_minor": 2
}
