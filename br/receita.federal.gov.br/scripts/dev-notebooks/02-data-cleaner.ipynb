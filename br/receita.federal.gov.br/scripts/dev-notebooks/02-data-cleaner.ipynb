{
 "cells": [
  {
   "cell_type": "code",
   "execution_count": 1,
   "metadata": {
    "collapsed": true
   },
   "outputs": [],
   "source": [
    "import os\n",
    "import codecs"
   ]
  },
  {
   "cell_type": "code",
   "execution_count": 2,
   "metadata": {
    "collapsed": true
   },
   "outputs": [],
   "source": [
    "def encode_to_utf8(**kwargs):\n",
    "    \"\"\"\n",
    "    Funcao para padronizar a codificacao dos arquivos originais em UTF-8.\n",
    "    Facilita a futura leitura dos arquivos e elimina caracteres desconhecidos.\n",
    "    \n",
    "    Args:\n",
    "        original_encode(str): Codificacao original do arquivo.\n",
    "                              Ex.: 'cp1252'\n",
    "        in_data_path(str): Caminho completo para acesso ao arquivo original.\n",
    "                           Ex.: '..\\data\\raw\\2012_Funcoes.csv'\n",
    "        out_data_path(str): Caminho completo para escrita do arquivo codificado\n",
    "                            em UTF-8.\n",
    "                            Ex.: '..\\data\\encoded\\2012_Funcoes.csv'\n",
    "    \"\"\"\n",
    "    \n",
    "    # Log: Mensagem de inicio da decodificacao\n",
    "    print 'Inicio: ' + kwargs['in_data_path']\n",
    "    \n",
    "    # Le arquivo na codificacao original\n",
    "    with codecs.open(kwargs['in_data_path'], 'rb', encoding = kwargs['original_encode'], errors = 'replace') as file:\n",
    "        # Substitui os caracteres desconhecidos por interrogacao\n",
    "        lines = file.read().replace('\\x1a', '?')\n",
    "\n",
    "    # Escreve o arquivo codificado em UTF-8\n",
    "    with codecs.open(kwargs['out_data_path'], 'w', encoding = 'utf-8') as file:\n",
    "        file.write(lines)\n",
    "    \n",
    "    # Log: Mensagem de termino da codificacao\n",
    "    print 'Fim: '+ kwargs['out_data_path']"
   ]
  },
  {
   "cell_type": "code",
   "execution_count": 3,
   "metadata": {
    "collapsed": true
   },
   "outputs": [],
   "source": [
    "def clean_files():\n",
    "    \"\"\"\n",
    "    Funcao para limpar os arquivos coletados, codificando em UTF-8 e elimando caracteres desconhecidos.\n",
    "    \"\"\"\n",
    "    \n",
    "    # Prepara o dicionario de variaveis (kwargs = keyworded arguments)\n",
    "    kwargs = {}\n",
    "    \n",
    "    # Diretorio de armazenamento dos arquivos originais\n",
    "    kwargs['in_data_dir'] = '..\\\\..\\\\data\\\\01-collected'\n",
    "    \n",
    "    # Diretorio de armazenamento dos arquivos tratados\n",
    "    kwargs['out_data_dir'] = '..\\\\..\\\\data\\\\02-cleaned'\n",
    "    \n",
    "    # Codificacao dos arquivos originais\n",
    "    kwargs['original_encode'] = 'utf-8'\n",
    "\n",
    "    # Lista dos arquivos originais \n",
    "    files = os.listdir(kwargs['in_data_dir'])\n",
    "\n",
    "    # Para cada arquivo na lista de arquivos originais\n",
    "    for data_file in files:\n",
    "        \n",
    "        kwargs['data_file'] = data_file\n",
    "\n",
    "        # Define o caminho completo de acesso e escrita dos arquivos\n",
    "        kwargs['in_data_path'] = os.path.join(kwargs['in_data_dir'], kwargs['data_file'])\n",
    "        kwargs['out_data_path'] = os.path.join(kwargs['out_data_dir'], kwargs['data_file'])\n",
    "        \n",
    "        # Codifica o arquivo original em UTF-8\n",
    "        print 'Enviando ' + kwargs['data_file'] + ' para limpeza.'\n",
    "        encode_to_utf8(**kwargs)"
   ]
  },
  {
   "cell_type": "code",
   "execution_count": 4,
   "metadata": {},
   "outputs": [
    {
     "name": "stdout",
     "output_type": "stream",
     "text": [
      "Enviando 20180718_AC.txt para limpeza.\n",
      "Inicio: ..\\..\\data\\01-collected\\20180718_AC.txt\n",
      "Fim: ..\\..\\data\\02-cleaned\\20180718_AC.txt\n",
      "Enviando 20180718_AL.txt para limpeza.\n",
      "Inicio: ..\\..\\data\\01-collected\\20180718_AL.txt\n",
      "Fim: ..\\..\\data\\02-cleaned\\20180718_AL.txt\n",
      "Enviando 20180718_AM.txt para limpeza.\n",
      "Inicio: ..\\..\\data\\01-collected\\20180718_AM.txt\n",
      "Fim: ..\\..\\data\\02-cleaned\\20180718_AM.txt\n",
      "Enviando 20180718_AP.txt para limpeza.\n",
      "Inicio: ..\\..\\data\\01-collected\\20180718_AP.txt\n",
      "Fim: ..\\..\\data\\02-cleaned\\20180718_AP.txt\n",
      "Enviando 20180718_BA.txt para limpeza.\n",
      "Inicio: ..\\..\\data\\01-collected\\20180718_BA.txt\n",
      "Fim: ..\\..\\data\\02-cleaned\\20180718_BA.txt\n",
      "Enviando 20180718_CE.txt para limpeza.\n",
      "Inicio: ..\\..\\data\\01-collected\\20180718_CE.txt\n",
      "Fim: ..\\..\\data\\02-cleaned\\20180718_CE.txt\n",
      "Enviando 20180718_DF.txt para limpeza.\n",
      "Inicio: ..\\..\\data\\01-collected\\20180718_DF.txt\n",
      "Fim: ..\\..\\data\\02-cleaned\\20180718_DF.txt\n",
      "Enviando 20180718_ES.txt para limpeza.\n",
      "Inicio: ..\\..\\data\\01-collected\\20180718_ES.txt\n",
      "Fim: ..\\..\\data\\02-cleaned\\20180718_ES.txt\n",
      "Enviando 20180718_GO.txt para limpeza.\n",
      "Inicio: ..\\..\\data\\01-collected\\20180718_GO.txt\n",
      "Fim: ..\\..\\data\\02-cleaned\\20180718_GO.txt\n",
      "Enviando 20180718_MA.txt para limpeza.\n",
      "Inicio: ..\\..\\data\\01-collected\\20180718_MA.txt\n",
      "Fim: ..\\..\\data\\02-cleaned\\20180718_MA.txt\n",
      "Enviando 20180718_MG.txt para limpeza.\n",
      "Inicio: ..\\..\\data\\01-collected\\20180718_MG.txt\n",
      "Fim: ..\\..\\data\\02-cleaned\\20180718_MG.txt\n",
      "Enviando 20180718_MS.txt para limpeza.\n",
      "Inicio: ..\\..\\data\\01-collected\\20180718_MS.txt\n",
      "Fim: ..\\..\\data\\02-cleaned\\20180718_MS.txt\n",
      "Enviando 20180718_MT.txt para limpeza.\n",
      "Inicio: ..\\..\\data\\01-collected\\20180718_MT.txt\n",
      "Fim: ..\\..\\data\\02-cleaned\\20180718_MT.txt\n",
      "Enviando 20180718_PA.txt para limpeza.\n",
      "Inicio: ..\\..\\data\\01-collected\\20180718_PA.txt\n",
      "Fim: ..\\..\\data\\02-cleaned\\20180718_PA.txt\n",
      "Enviando 20180718_PB.txt para limpeza.\n",
      "Inicio: ..\\..\\data\\01-collected\\20180718_PB.txt\n",
      "Fim: ..\\..\\data\\02-cleaned\\20180718_PB.txt\n",
      "Enviando 20180718_PE.txt para limpeza.\n",
      "Inicio: ..\\..\\data\\01-collected\\20180718_PE.txt\n",
      "Fim: ..\\..\\data\\02-cleaned\\20180718_PE.txt\n",
      "Enviando 20180718_PI.txt para limpeza.\n",
      "Inicio: ..\\..\\data\\01-collected\\20180718_PI.txt\n",
      "Fim: ..\\..\\data\\02-cleaned\\20180718_PI.txt\n",
      "Enviando 20180718_PR.txt para limpeza.\n",
      "Inicio: ..\\..\\data\\01-collected\\20180718_PR.txt\n",
      "Fim: ..\\..\\data\\02-cleaned\\20180718_PR.txt\n",
      "Enviando 20180718_RJ.txt para limpeza.\n",
      "Inicio: ..\\..\\data\\01-collected\\20180718_RJ.txt\n",
      "Fim: ..\\..\\data\\02-cleaned\\20180718_RJ.txt\n",
      "Enviando 20180718_RN.txt para limpeza.\n",
      "Inicio: ..\\..\\data\\01-collected\\20180718_RN.txt\n",
      "Fim: ..\\..\\data\\02-cleaned\\20180718_RN.txt\n",
      "Enviando 20180718_RO.txt para limpeza.\n",
      "Inicio: ..\\..\\data\\01-collected\\20180718_RO.txt\n",
      "Fim: ..\\..\\data\\02-cleaned\\20180718_RO.txt\n",
      "Enviando 20180718_RR.txt para limpeza.\n",
      "Inicio: ..\\..\\data\\01-collected\\20180718_RR.txt\n",
      "Fim: ..\\..\\data\\02-cleaned\\20180718_RR.txt\n",
      "Enviando 20180718_RS.txt para limpeza.\n",
      "Inicio: ..\\..\\data\\01-collected\\20180718_RS.txt\n",
      "Fim: ..\\..\\data\\02-cleaned\\20180718_RS.txt\n",
      "Enviando 20180718_SC.txt para limpeza.\n",
      "Inicio: ..\\..\\data\\01-collected\\20180718_SC.txt\n",
      "Fim: ..\\..\\data\\02-cleaned\\20180718_SC.txt\n",
      "Enviando 20180718_SE.txt para limpeza.\n",
      "Inicio: ..\\..\\data\\01-collected\\20180718_SE.txt\n",
      "Fim: ..\\..\\data\\02-cleaned\\20180718_SE.txt\n",
      "Enviando 20180718_SP.txt para limpeza.\n",
      "Inicio: ..\\..\\data\\01-collected\\20180718_SP.txt\n",
      "Fim: ..\\..\\data\\02-cleaned\\20180718_SP.txt\n",
      "Enviando 20180718_TO.txt para limpeza.\n",
      "Inicio: ..\\..\\data\\01-collected\\20180718_TO.txt\n",
      "Fim: ..\\..\\data\\02-cleaned\\20180718_TO.txt\n"
     ]
    }
   ],
   "source": [
    "def main():\n",
    "    ### Limpa os arquivos\n",
    "    clean_files()\n",
    "\n",
    "if __name__ == '__main__':\n",
    "    main()"
   ]
  },
  {
   "cell_type": "code",
   "execution_count": null,
   "metadata": {
    "collapsed": true
   },
   "outputs": [],
   "source": []
  }
 ],
 "metadata": {
  "kernelspec": {
   "display_name": "Python 2",
   "language": "python",
   "name": "python2"
  },
  "language_info": {
   "codemirror_mode": {
    "name": "ipython",
    "version": 2
   },
   "file_extension": ".py",
   "mimetype": "text/x-python",
   "name": "python",
   "nbconvert_exporter": "python",
   "pygments_lexer": "ipython2",
   "version": "2.7.13"
  }
 },
 "nbformat": 4,
 "nbformat_minor": 2
}
